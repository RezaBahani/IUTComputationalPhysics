{
  "nbformat": 4,
  "nbformat_minor": 0,
  "metadata": {
    "colab": {
      "provenance": [],
      "authorship_tag": "ABX9TyOcK9m3qxrLu7zEfL06671Y",
      "include_colab_link": true
    },
    "kernelspec": {
      "name": "python3",
      "display_name": "Python 3"
    },
    "language_info": {
      "name": "python"
    }
  },
  "cells": [
    {
      "cell_type": "markdown",
      "metadata": {
        "id": "view-in-github",
        "colab_type": "text"
      },
      "source": [
        "<a href=\"https://colab.research.google.com/github/RezaBahani/IUTComputationalPhysics/blob/main/isingModel.ipynb\" target=\"_parent\"><img src=\"https://colab.research.google.com/assets/colab-badge.svg\" alt=\"Open In Colab\"/></a>"
      ]
    },
    {
      "cell_type": "code",
      "execution_count": 1,
      "metadata": {
        "id": "-pbssHF_afEP"
      },
      "outputs": [],
      "source": [
        "import numpy as np\n",
        "from scipy.ndimage import convolve\n",
        "from matplotlib import pyplot as plt"
      ]
    },
    {
      "cell_type": "code",
      "source": [
        "class isingModel(np.ndarray):\n",
        "\n",
        "    def __new__(cls, N, *args, **kwargs):\n",
        "        obj = np.random.choice([-1, 1], size = [N, N]).view(cls)\n",
        "        return obj\n",
        "\n",
        "    def __array_finalize__(self, obj):\n",
        "        if obj is None: return\n",
        "\n",
        "\n",
        "    def __init__(self, N):\n",
        "        self.N = N\n",
        "        self._filter = np.array([[0, 1, 0],[1, 0, 1],[0,1,0]])\n",
        "        self._neighbors = convolve(self, self.filter, mode = 'wrap')\n",
        "\n",
        "    @property\n",
        "    def magnetization(self):\n",
        "        return float(np.sum(self))\n",
        "\n",
        "    @property\n",
        "    def filter(self):\n",
        "        return self._filter\n",
        "\n",
        "    @property\n",
        "    def neighbors(self):\n",
        "        return self._neighbors\n",
        "\n",
        "    @property\n",
        "    def energy(self):\n",
        "        return float(0.5*np.sum(self*self.neighbors))\n",
        "\n",
        "\n",
        "#mont carlo\n",
        "    def MontCarloSteps(self, temprature):\n",
        "        i = np.random.randint(0, self.N - 1)\n",
        "        j = np.random.randint(0, self.N - 1)\n",
        "\n",
        "        delta_e = 2*self[i,j]*self.neighbors[i,j]\n",
        "\n",
        "        if delta_e <= 0 or np.random.rand() < np.exp(- delta_e / temprature):\n",
        "            self[i,j]*=-1\n",
        "            self._neighbors[i+1 % self.N, j] += 2*self[i, j]\n",
        "            self._neighbors[i-1, j] += 2*self[i, j]\n",
        "            self._neighbors[i, j+1 % self.N] += 2*self[i, j]\n",
        "            self._neighbors[i, j-1] +=2*self[i,j]\n",
        "            return True\n",
        "\n",
        "        return False\n",
        "\n"
      ],
      "metadata": {
        "id": "tbWSNSntf4VL"
      },
      "execution_count": 29,
      "outputs": []
    },
    {
      "cell_type": "code",
      "source": [
        "isingSystem = isingModel(10)"
      ],
      "metadata": {
        "id": "VrmGXB0wklkB"
      },
      "execution_count": 36,
      "outputs": []
    },
    {
      "cell_type": "code",
      "source": [
        "isingSystem.magnetization\n",
        "isingSystem.energy\n",
        "isingSystem.MontCarloSteps(1)\n",
        "f'Magnetization: {isingSystem.magnetization}, Energy: {isingSystem.energy}, Monte Carlo steps: {isingSystem.MontCarloSteps(1)}'"
      ],
      "metadata": {
        "colab": {
          "base_uri": "https://localhost:8080/",
          "height": 36
        },
        "id": "9yt6ELGOkxo8",
        "outputId": "34e68dd4-47d6-4ba6-d9ba-54bcdf3f3c3c"
      },
      "execution_count": 37,
      "outputs": [
        {
          "output_type": "execute_result",
          "data": {
            "text/plain": [
              "'Magnetization: 12.0, Energy: -28.0, Monte Carlo steps: True'"
            ],
            "application/vnd.google.colaboratory.intrinsic+json": {
              "type": "string"
            }
          },
          "metadata": {},
          "execution_count": 37
        }
      ]
    },
    {
      "cell_type": "code",
      "source": [],
      "metadata": {
        "id": "wATyUDZ2lkMX"
      },
      "execution_count": 13,
      "outputs": []
    }
  ]
}